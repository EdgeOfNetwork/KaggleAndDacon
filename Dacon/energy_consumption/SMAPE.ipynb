{
 "cells": [
  {
   "cell_type": "markdown",
   "metadata": {},
   "source": [
    "평균 절대 백분율 오차(MAPE, Mean absolute percentage error)는 예측 오류를 측정할 때 쓰이는 가장 일반적인 방법이다. MAPE는 데이터에 극단이(0값 포함)이 없을 때 잘 동작한다. 그러나 0이나 0에 근접한 데이터가 포함되는 경우엔 MAPE는 전체 오류율을 왜곡시키므로 이러한 경우엔 SMAPE가 더 적합한 방법으로 사용된다.   \n",
    "\n",
    "Symmetric mean absolute percentage error (SMAPE 또는 sMAPE)는 백분율(퍼센티지, 또는 상대) 오류를 기반으로 한 정확도 측정 방법이다. 평균 절대 백분율 오차(MAPE, Mean absolute percentage error)와 달리 SMAPE엔 상한과 하한이 있다. SMAPE의 이러한 값의 제한은 MAPE에서 발생하는 오류율의 왜곡을 막아준다. SMAPE에도 한계가 있는데 실제 값 또는 예측 값이 0인 경우 오류 값이 오류의 상한값까지 상승한다는 것이다.   \n",
    "\n",
    "아래 코드는 SMAPE의 구현 중 하나다. Over-forecasting과 Under-forecasting에 대한 대칭성이 없다는 단점이 있다. 분모 값을 2로 나누어 주느냐 아니냐에 따라서 상하한 값은 0~100%이 되거나 0~200%가 된다.  \n",
    "  \n",
    "• A = 100, F = 110일 때, SMAPE 4.76%\n",
    "  \n",
    "• A = 100, F = 90일 때, SMAPE 5.26%\n",
    "\n",
    "[출처] [Python] SMAPE|작성자 에스이오케이  "
   ]
  },
  {
   "cell_type": "code",
   "execution_count": 1,
   "metadata": {},
   "outputs": [],
   "source": [
    "def mape(row):\n",
    "    return abs(row.Forecast - row.Actual) / ((abs(row.Actual) + abs(row.Forecast)))"
   ]
  },
  {
   "cell_type": "code",
   "execution_count": 2,
   "metadata": {},
   "outputs": [],
   "source": [
    "import pandas as pd\n",
    "\n",
    "df = pd.DataFrame.from_dict({'Actual': [2,3,4,5,6,7,8,9], 'Forecast': [1,3,5,4,6,7,10,7]})"
   ]
  },
  {
   "cell_type": "code",
   "execution_count": 3,
   "metadata": {},
   "outputs": [
    {
     "name": "stdout",
     "output_type": "stream",
     "text": [
      "9.895833333333334\n"
     ]
    }
   ],
   "source": [
    "smape = df.apply(mape, axis=1).sum() * (100 / len(df))\n",
    "print(smape)"
   ]
  },
  {
   "cell_type": "code",
   "execution_count": 4,
   "metadata": {},
   "outputs": [],
   "source": [
    "import numpy as np\n",
    "\n",
    "def smape(A, F):\n",
    "    return 100 / len(A) * np.sum(np.abs(F - A) / (np.abs(A) + np.abs(F)))"
   ]
  },
  {
   "cell_type": "code",
   "execution_count": 5,
   "metadata": {},
   "outputs": [
    {
     "name": "stdout",
     "output_type": "stream",
     "text": [
      "9.895833333333334\n"
     ]
    }
   ],
   "source": [
    "A = np.array([2,3,4,5,6,7,8,9])\n",
    "F = np.array([1,3,5,4,6,7,10,7])\n",
    "\n",
    "print(smape(A, F))"
   ]
  },
  {
   "cell_type": "code",
   "execution_count": null,
   "metadata": {},
   "outputs": [],
   "source": []
  }
 ],
 "metadata": {
  "kernelspec": {
   "display_name": "Python 3",
   "language": "python",
   "name": "python3"
  },
  "language_info": {
   "codemirror_mode": {
    "name": "ipython",
    "version": 3
   },
   "file_extension": ".py",
   "mimetype": "text/x-python",
   "name": "python",
   "nbconvert_exporter": "python",
   "pygments_lexer": "ipython3",
   "version": "3.8.5"
  }
 },
 "nbformat": 4,
 "nbformat_minor": 4
}
