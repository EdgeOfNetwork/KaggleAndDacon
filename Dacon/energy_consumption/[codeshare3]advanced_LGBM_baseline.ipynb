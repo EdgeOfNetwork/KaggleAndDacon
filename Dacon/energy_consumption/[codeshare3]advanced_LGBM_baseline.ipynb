{
 "cells": [
  {
   "cell_type": "markdown",
   "metadata": {},
   "source": [
    "총평:  \n",
    "\n",
    "  접근방식이나 원리 등등 뭐 알겠는데  \n",
    "    \n",
    "  점수가 엄청나게 안좋아서 김빠지는 노트  "
   ]
  },
  {
   "cell_type": "code",
   "execution_count": 1,
   "metadata": {},
   "outputs": [],
   "source": [
    "import numpy as np\n",
    "import pandas as pd\n",
    "import os\n",
    "\n",
    "from sklearn.model_selection import GridSearchCV\n",
    "from sklearn.metrics import make_scorer\n",
    "\n",
    "from lightgbm import LGBMRegressor\n",
    "from sklearn.model_selection import train_test_split"
   ]
  },
  {
   "cell_type": "code",
   "execution_count": 2,
   "metadata": {},
   "outputs": [],
   "source": [
    "os.chdir('./energy/')"
   ]
  },
  {
   "cell_type": "code",
   "execution_count": 3,
   "metadata": {
    "scrolled": true
   },
   "outputs": [],
   "source": [
    "train = pd.read_csv('train.csv', encoding='euc-kr')\n",
    "test = pd.read_csv('test.csv', encoding='euc-kr')\n",
    "submission = pd.read_csv('sample_submission.csv', encoding='euc-kr')"
   ]
  },
  {
   "cell_type": "code",
   "execution_count": 4,
   "metadata": {},
   "outputs": [
    {
     "data": {
      "text/html": [
       "<div>\n",
       "<style scoped>\n",
       "    .dataframe tbody tr th:only-of-type {\n",
       "        vertical-align: middle;\n",
       "    }\n",
       "\n",
       "    .dataframe tbody tr th {\n",
       "        vertical-align: top;\n",
       "    }\n",
       "\n",
       "    .dataframe thead th {\n",
       "        text-align: right;\n",
       "    }\n",
       "</style>\n",
       "<table border=\"1\" class=\"dataframe\">\n",
       "  <thead>\n",
       "    <tr style=\"text-align: right;\">\n",
       "      <th></th>\n",
       "      <th>num</th>\n",
       "      <th>date_time</th>\n",
       "      <th>전력사용량(kWh)</th>\n",
       "      <th>기온(°C)</th>\n",
       "      <th>풍속(m/s)</th>\n",
       "      <th>습도(%)</th>\n",
       "      <th>강수량(mm)</th>\n",
       "      <th>일조(hr)</th>\n",
       "      <th>비전기냉방설비운영</th>\n",
       "      <th>태양광보유</th>\n",
       "    </tr>\n",
       "  </thead>\n",
       "  <tbody>\n",
       "    <tr>\n",
       "      <th>0</th>\n",
       "      <td>1</td>\n",
       "      <td>2020-06-01 00</td>\n",
       "      <td>8179.056</td>\n",
       "      <td>17.6</td>\n",
       "      <td>2.5</td>\n",
       "      <td>92.0</td>\n",
       "      <td>0.8</td>\n",
       "      <td>0.0</td>\n",
       "      <td>0.0</td>\n",
       "      <td>0.0</td>\n",
       "    </tr>\n",
       "    <tr>\n",
       "      <th>1</th>\n",
       "      <td>1</td>\n",
       "      <td>2020-06-01 01</td>\n",
       "      <td>8135.640</td>\n",
       "      <td>17.7</td>\n",
       "      <td>2.9</td>\n",
       "      <td>91.0</td>\n",
       "      <td>0.3</td>\n",
       "      <td>0.0</td>\n",
       "      <td>0.0</td>\n",
       "      <td>0.0</td>\n",
       "    </tr>\n",
       "    <tr>\n",
       "      <th>2</th>\n",
       "      <td>1</td>\n",
       "      <td>2020-06-01 02</td>\n",
       "      <td>8107.128</td>\n",
       "      <td>17.5</td>\n",
       "      <td>3.2</td>\n",
       "      <td>91.0</td>\n",
       "      <td>0.0</td>\n",
       "      <td>0.0</td>\n",
       "      <td>0.0</td>\n",
       "      <td>0.0</td>\n",
       "    </tr>\n",
       "  </tbody>\n",
       "</table>\n",
       "</div>"
      ],
      "text/plain": [
       "   num      date_time  전력사용량(kWh)  기온(°C)  풍속(m/s)  습도(%)  강수량(mm)  일조(hr)  \\\n",
       "0    1  2020-06-01 00    8179.056    17.6      2.5   92.0      0.8     0.0   \n",
       "1    1  2020-06-01 01    8135.640    17.7      2.9   91.0      0.3     0.0   \n",
       "2    1  2020-06-01 02    8107.128    17.5      3.2   91.0      0.0     0.0   \n",
       "\n",
       "   비전기냉방설비운영  태양광보유  \n",
       "0        0.0    0.0  \n",
       "1        0.0    0.0  \n",
       "2        0.0    0.0  "
      ]
     },
     "execution_count": 4,
     "metadata": {},
     "output_type": "execute_result"
    }
   ],
   "source": [
    "train.head(3)"
   ]
  },
  {
   "cell_type": "code",
   "execution_count": 5,
   "metadata": {},
   "outputs": [
    {
     "data": {
      "text/html": [
       "<div>\n",
       "<style scoped>\n",
       "    .dataframe tbody tr th:only-of-type {\n",
       "        vertical-align: middle;\n",
       "    }\n",
       "\n",
       "    .dataframe tbody tr th {\n",
       "        vertical-align: top;\n",
       "    }\n",
       "\n",
       "    .dataframe thead th {\n",
       "        text-align: right;\n",
       "    }\n",
       "</style>\n",
       "<table border=\"1\" class=\"dataframe\">\n",
       "  <thead>\n",
       "    <tr style=\"text-align: right;\">\n",
       "      <th></th>\n",
       "      <th>num</th>\n",
       "      <th>date_time</th>\n",
       "      <th>기온(°C)</th>\n",
       "      <th>풍속(m/s)</th>\n",
       "      <th>습도(%)</th>\n",
       "      <th>강수량(mm, 6시간)</th>\n",
       "      <th>일조(hr, 3시간)</th>\n",
       "      <th>비전기냉방설비운영</th>\n",
       "      <th>태양광보유</th>\n",
       "    </tr>\n",
       "  </thead>\n",
       "  <tbody>\n",
       "    <tr>\n",
       "      <th>0</th>\n",
       "      <td>1</td>\n",
       "      <td>2020-08-25 00</td>\n",
       "      <td>27.8</td>\n",
       "      <td>1.5</td>\n",
       "      <td>74.0</td>\n",
       "      <td>0.0</td>\n",
       "      <td>0.0</td>\n",
       "      <td>NaN</td>\n",
       "      <td>NaN</td>\n",
       "    </tr>\n",
       "    <tr>\n",
       "      <th>1</th>\n",
       "      <td>1</td>\n",
       "      <td>2020-08-25 01</td>\n",
       "      <td>NaN</td>\n",
       "      <td>NaN</td>\n",
       "      <td>NaN</td>\n",
       "      <td>NaN</td>\n",
       "      <td>NaN</td>\n",
       "      <td>NaN</td>\n",
       "      <td>NaN</td>\n",
       "    </tr>\n",
       "    <tr>\n",
       "      <th>2</th>\n",
       "      <td>1</td>\n",
       "      <td>2020-08-25 02</td>\n",
       "      <td>NaN</td>\n",
       "      <td>NaN</td>\n",
       "      <td>NaN</td>\n",
       "      <td>NaN</td>\n",
       "      <td>NaN</td>\n",
       "      <td>NaN</td>\n",
       "      <td>NaN</td>\n",
       "    </tr>\n",
       "  </tbody>\n",
       "</table>\n",
       "</div>"
      ],
      "text/plain": [
       "   num      date_time  기온(°C)  풍속(m/s)  습도(%)  강수량(mm, 6시간)  일조(hr, 3시간)  \\\n",
       "0    1  2020-08-25 00    27.8      1.5   74.0           0.0          0.0   \n",
       "1    1  2020-08-25 01     NaN      NaN    NaN           NaN          NaN   \n",
       "2    1  2020-08-25 02     NaN      NaN    NaN           NaN          NaN   \n",
       "\n",
       "   비전기냉방설비운영  태양광보유  \n",
       "0        NaN    NaN  \n",
       "1        NaN    NaN  \n",
       "2        NaN    NaN  "
      ]
     },
     "execution_count": 5,
     "metadata": {},
     "output_type": "execute_result"
    }
   ],
   "source": [
    "test.head(3) #테스트에는 전력사용량이 없다"
   ]
  },
  {
   "cell_type": "markdown",
   "metadata": {},
   "source": [
    "# 결측치 파악 및 보간"
   ]
  },
  {
   "cell_type": "code",
   "execution_count": 6,
   "metadata": {},
   "outputs": [],
   "source": [
    "train[['num', '비전기냉방설비운영','태양광보유']]\n",
    "ice = {}\n",
    "hot = {}\n",
    "count = 0"
   ]
  },
  {
   "cell_type": "code",
   "execution_count": 7,
   "metadata": {},
   "outputs": [],
   "source": [
    "for i in range(0, len(train), len(train)//60):\n",
    "    count +=1\n",
    "    ice[count] = train.loc[i, '비전기냉방설비운영']\n",
    "    hot[count] = train.loc[i, '태양광보유']"
   ]
  },
  {
   "cell_type": "code",
   "execution_count": 8,
   "metadata": {},
   "outputs": [],
   "source": [
    "for i in range(len(test)):\n",
    "    test.loc[i, '비전기냉방설비운영'] = ice[test['num'][i]]\n",
    "    test.loc[i, '태양광보유'] = hot[test['num'][i]]"
   ]
  },
  {
   "cell_type": "code",
   "execution_count": 9,
   "metadata": {},
   "outputs": [
    {
     "data": {
      "text/html": [
       "<div>\n",
       "<style scoped>\n",
       "    .dataframe tbody tr th:only-of-type {\n",
       "        vertical-align: middle;\n",
       "    }\n",
       "\n",
       "    .dataframe tbody tr th {\n",
       "        vertical-align: top;\n",
       "    }\n",
       "\n",
       "    .dataframe thead th {\n",
       "        text-align: right;\n",
       "    }\n",
       "</style>\n",
       "<table border=\"1\" class=\"dataframe\">\n",
       "  <thead>\n",
       "    <tr style=\"text-align: right;\">\n",
       "      <th></th>\n",
       "      <th>num</th>\n",
       "      <th>date_time</th>\n",
       "      <th>전력사용량(kWh)</th>\n",
       "      <th>기온(°C)</th>\n",
       "      <th>풍속(m/s)</th>\n",
       "      <th>습도(%)</th>\n",
       "      <th>강수량(mm)</th>\n",
       "      <th>일조(hr)</th>\n",
       "      <th>비전기냉방설비운영</th>\n",
       "      <th>태양광보유</th>\n",
       "    </tr>\n",
       "  </thead>\n",
       "  <tbody>\n",
       "    <tr>\n",
       "      <th>0</th>\n",
       "      <td>1</td>\n",
       "      <td>2020-06-01 00</td>\n",
       "      <td>8179.056</td>\n",
       "      <td>17.6</td>\n",
       "      <td>2.5</td>\n",
       "      <td>92.0</td>\n",
       "      <td>0.8</td>\n",
       "      <td>0.0</td>\n",
       "      <td>0.0</td>\n",
       "      <td>0.0</td>\n",
       "    </tr>\n",
       "    <tr>\n",
       "      <th>1</th>\n",
       "      <td>1</td>\n",
       "      <td>2020-06-01 01</td>\n",
       "      <td>8135.640</td>\n",
       "      <td>17.7</td>\n",
       "      <td>2.9</td>\n",
       "      <td>91.0</td>\n",
       "      <td>0.3</td>\n",
       "      <td>0.0</td>\n",
       "      <td>0.0</td>\n",
       "      <td>0.0</td>\n",
       "    </tr>\n",
       "    <tr>\n",
       "      <th>2</th>\n",
       "      <td>1</td>\n",
       "      <td>2020-06-01 02</td>\n",
       "      <td>8107.128</td>\n",
       "      <td>17.5</td>\n",
       "      <td>3.2</td>\n",
       "      <td>91.0</td>\n",
       "      <td>0.0</td>\n",
       "      <td>0.0</td>\n",
       "      <td>0.0</td>\n",
       "      <td>0.0</td>\n",
       "    </tr>\n",
       "  </tbody>\n",
       "</table>\n",
       "</div>"
      ],
      "text/plain": [
       "   num      date_time  전력사용량(kWh)  기온(°C)  풍속(m/s)  습도(%)  강수량(mm)  일조(hr)  \\\n",
       "0    1  2020-06-01 00    8179.056    17.6      2.5   92.0      0.8     0.0   \n",
       "1    1  2020-06-01 01    8135.640    17.7      2.9   91.0      0.3     0.0   \n",
       "2    1  2020-06-01 02    8107.128    17.5      3.2   91.0      0.0     0.0   \n",
       "\n",
       "   비전기냉방설비운영  태양광보유  \n",
       "0        0.0    0.0  \n",
       "1        0.0    0.0  \n",
       "2        0.0    0.0  "
      ]
     },
     "execution_count": 9,
     "metadata": {},
     "output_type": "execute_result"
    }
   ],
   "source": [
    "train.head(3)"
   ]
  },
  {
   "cell_type": "code",
   "execution_count": 10,
   "metadata": {},
   "outputs": [
    {
     "data": {
      "text/html": [
       "<div>\n",
       "<style scoped>\n",
       "    .dataframe tbody tr th:only-of-type {\n",
       "        vertical-align: middle;\n",
       "    }\n",
       "\n",
       "    .dataframe tbody tr th {\n",
       "        vertical-align: top;\n",
       "    }\n",
       "\n",
       "    .dataframe thead th {\n",
       "        text-align: right;\n",
       "    }\n",
       "</style>\n",
       "<table border=\"1\" class=\"dataframe\">\n",
       "  <thead>\n",
       "    <tr style=\"text-align: right;\">\n",
       "      <th></th>\n",
       "      <th>num</th>\n",
       "      <th>date_time</th>\n",
       "      <th>기온(°C)</th>\n",
       "      <th>풍속(m/s)</th>\n",
       "      <th>습도(%)</th>\n",
       "      <th>강수량(mm, 6시간)</th>\n",
       "      <th>일조(hr, 3시간)</th>\n",
       "      <th>비전기냉방설비운영</th>\n",
       "      <th>태양광보유</th>\n",
       "    </tr>\n",
       "  </thead>\n",
       "  <tbody>\n",
       "    <tr>\n",
       "      <th>0</th>\n",
       "      <td>1</td>\n",
       "      <td>2020-08-25 00</td>\n",
       "      <td>27.8</td>\n",
       "      <td>1.5</td>\n",
       "      <td>74.0</td>\n",
       "      <td>0.0</td>\n",
       "      <td>0.0</td>\n",
       "      <td>0.0</td>\n",
       "      <td>0.0</td>\n",
       "    </tr>\n",
       "    <tr>\n",
       "      <th>1</th>\n",
       "      <td>1</td>\n",
       "      <td>2020-08-25 01</td>\n",
       "      <td>NaN</td>\n",
       "      <td>NaN</td>\n",
       "      <td>NaN</td>\n",
       "      <td>NaN</td>\n",
       "      <td>NaN</td>\n",
       "      <td>0.0</td>\n",
       "      <td>0.0</td>\n",
       "    </tr>\n",
       "    <tr>\n",
       "      <th>2</th>\n",
       "      <td>1</td>\n",
       "      <td>2020-08-25 02</td>\n",
       "      <td>NaN</td>\n",
       "      <td>NaN</td>\n",
       "      <td>NaN</td>\n",
       "      <td>NaN</td>\n",
       "      <td>NaN</td>\n",
       "      <td>0.0</td>\n",
       "      <td>0.0</td>\n",
       "    </tr>\n",
       "  </tbody>\n",
       "</table>\n",
       "</div>"
      ],
      "text/plain": [
       "   num      date_time  기온(°C)  풍속(m/s)  습도(%)  강수량(mm, 6시간)  일조(hr, 3시간)  \\\n",
       "0    1  2020-08-25 00    27.8      1.5   74.0           0.0          0.0   \n",
       "1    1  2020-08-25 01     NaN      NaN    NaN           NaN          NaN   \n",
       "2    1  2020-08-25 02     NaN      NaN    NaN           NaN          NaN   \n",
       "\n",
       "   비전기냉방설비운영  태양광보유  \n",
       "0        0.0    0.0  \n",
       "1        0.0    0.0  \n",
       "2        0.0    0.0  "
      ]
     },
     "execution_count": 10,
     "metadata": {},
     "output_type": "execute_result"
    }
   ],
   "source": [
    "test.head(3)"
   ]
  },
  {
   "cell_type": "code",
   "execution_count": 11,
   "metadata": {},
   "outputs": [],
   "source": [
    "def time(x): return int(x[-2:])"
   ]
  },
  {
   "cell_type": "code",
   "execution_count": 12,
   "metadata": {},
   "outputs": [],
   "source": [
    "#시간, 요일, 주말여부\n",
    "train['time'] = train['date_time'].apply(lambda x: time(x))\n",
    "test['time'] = test['date_time'].apply(lambda x: time(x))"
   ]
  },
  {
   "cell_type": "code",
   "execution_count": 13,
   "metadata": {},
   "outputs": [
    {
     "data": {
      "text/html": [
       "<div>\n",
       "<style scoped>\n",
       "    .dataframe tbody tr th:only-of-type {\n",
       "        vertical-align: middle;\n",
       "    }\n",
       "\n",
       "    .dataframe tbody tr th {\n",
       "        vertical-align: top;\n",
       "    }\n",
       "\n",
       "    .dataframe thead th {\n",
       "        text-align: right;\n",
       "    }\n",
       "</style>\n",
       "<table border=\"1\" class=\"dataframe\">\n",
       "  <thead>\n",
       "    <tr style=\"text-align: right;\">\n",
       "      <th></th>\n",
       "      <th>num</th>\n",
       "      <th>date_time</th>\n",
       "      <th>전력사용량(kWh)</th>\n",
       "      <th>기온(°C)</th>\n",
       "      <th>풍속(m/s)</th>\n",
       "      <th>습도(%)</th>\n",
       "      <th>강수량(mm)</th>\n",
       "      <th>일조(hr)</th>\n",
       "      <th>비전기냉방설비운영</th>\n",
       "      <th>태양광보유</th>\n",
       "      <th>time</th>\n",
       "    </tr>\n",
       "  </thead>\n",
       "  <tbody>\n",
       "    <tr>\n",
       "      <th>0</th>\n",
       "      <td>1</td>\n",
       "      <td>2020-06-01 00</td>\n",
       "      <td>8179.056</td>\n",
       "      <td>17.6</td>\n",
       "      <td>2.5</td>\n",
       "      <td>92.0</td>\n",
       "      <td>0.8</td>\n",
       "      <td>0.0</td>\n",
       "      <td>0.0</td>\n",
       "      <td>0.0</td>\n",
       "      <td>0</td>\n",
       "    </tr>\n",
       "    <tr>\n",
       "      <th>1</th>\n",
       "      <td>1</td>\n",
       "      <td>2020-06-01 01</td>\n",
       "      <td>8135.640</td>\n",
       "      <td>17.7</td>\n",
       "      <td>2.9</td>\n",
       "      <td>91.0</td>\n",
       "      <td>0.3</td>\n",
       "      <td>0.0</td>\n",
       "      <td>0.0</td>\n",
       "      <td>0.0</td>\n",
       "      <td>1</td>\n",
       "    </tr>\n",
       "    <tr>\n",
       "      <th>2</th>\n",
       "      <td>1</td>\n",
       "      <td>2020-06-01 02</td>\n",
       "      <td>8107.128</td>\n",
       "      <td>17.5</td>\n",
       "      <td>3.2</td>\n",
       "      <td>91.0</td>\n",
       "      <td>0.0</td>\n",
       "      <td>0.0</td>\n",
       "      <td>0.0</td>\n",
       "      <td>0.0</td>\n",
       "      <td>2</td>\n",
       "    </tr>\n",
       "  </tbody>\n",
       "</table>\n",
       "</div>"
      ],
      "text/plain": [
       "   num      date_time  전력사용량(kWh)  기온(°C)  풍속(m/s)  습도(%)  강수량(mm)  일조(hr)  \\\n",
       "0    1  2020-06-01 00    8179.056    17.6      2.5   92.0      0.8     0.0   \n",
       "1    1  2020-06-01 01    8135.640    17.7      2.9   91.0      0.3     0.0   \n",
       "2    1  2020-06-01 02    8107.128    17.5      3.2   91.0      0.0     0.0   \n",
       "\n",
       "   비전기냉방설비운영  태양광보유  time  \n",
       "0        0.0    0.0     0  \n",
       "1        0.0    0.0     1  \n",
       "2        0.0    0.0     2  "
      ]
     },
     "execution_count": 13,
     "metadata": {},
     "output_type": "execute_result"
    }
   ],
   "source": [
    "train.head(3)"
   ]
  },
  {
   "cell_type": "code",
   "execution_count": 14,
   "metadata": {},
   "outputs": [
    {
     "data": {
      "text/html": [
       "<div>\n",
       "<style scoped>\n",
       "    .dataframe tbody tr th:only-of-type {\n",
       "        vertical-align: middle;\n",
       "    }\n",
       "\n",
       "    .dataframe tbody tr th {\n",
       "        vertical-align: top;\n",
       "    }\n",
       "\n",
       "    .dataframe thead th {\n",
       "        text-align: right;\n",
       "    }\n",
       "</style>\n",
       "<table border=\"1\" class=\"dataframe\">\n",
       "  <thead>\n",
       "    <tr style=\"text-align: right;\">\n",
       "      <th></th>\n",
       "      <th>num</th>\n",
       "      <th>date_time</th>\n",
       "      <th>기온(°C)</th>\n",
       "      <th>풍속(m/s)</th>\n",
       "      <th>습도(%)</th>\n",
       "      <th>강수량(mm, 6시간)</th>\n",
       "      <th>일조(hr, 3시간)</th>\n",
       "      <th>비전기냉방설비운영</th>\n",
       "      <th>태양광보유</th>\n",
       "      <th>time</th>\n",
       "    </tr>\n",
       "  </thead>\n",
       "  <tbody>\n",
       "    <tr>\n",
       "      <th>0</th>\n",
       "      <td>1</td>\n",
       "      <td>2020-08-25 00</td>\n",
       "      <td>27.8</td>\n",
       "      <td>1.5</td>\n",
       "      <td>74.0</td>\n",
       "      <td>0.0</td>\n",
       "      <td>0.0</td>\n",
       "      <td>0.0</td>\n",
       "      <td>0.0</td>\n",
       "      <td>0</td>\n",
       "    </tr>\n",
       "    <tr>\n",
       "      <th>1</th>\n",
       "      <td>1</td>\n",
       "      <td>2020-08-25 01</td>\n",
       "      <td>NaN</td>\n",
       "      <td>NaN</td>\n",
       "      <td>NaN</td>\n",
       "      <td>NaN</td>\n",
       "      <td>NaN</td>\n",
       "      <td>0.0</td>\n",
       "      <td>0.0</td>\n",
       "      <td>1</td>\n",
       "    </tr>\n",
       "    <tr>\n",
       "      <th>2</th>\n",
       "      <td>1</td>\n",
       "      <td>2020-08-25 02</td>\n",
       "      <td>NaN</td>\n",
       "      <td>NaN</td>\n",
       "      <td>NaN</td>\n",
       "      <td>NaN</td>\n",
       "      <td>NaN</td>\n",
       "      <td>0.0</td>\n",
       "      <td>0.0</td>\n",
       "      <td>2</td>\n",
       "    </tr>\n",
       "  </tbody>\n",
       "</table>\n",
       "</div>"
      ],
      "text/plain": [
       "   num      date_time  기온(°C)  풍속(m/s)  습도(%)  강수량(mm, 6시간)  일조(hr, 3시간)  \\\n",
       "0    1  2020-08-25 00    27.8      1.5   74.0           0.0          0.0   \n",
       "1    1  2020-08-25 01     NaN      NaN    NaN           NaN          NaN   \n",
       "2    1  2020-08-25 02     NaN      NaN    NaN           NaN          NaN   \n",
       "\n",
       "   비전기냉방설비운영  태양광보유  time  \n",
       "0        0.0    0.0     0  \n",
       "1        0.0    0.0     1  \n",
       "2        0.0    0.0     2  "
      ]
     },
     "execution_count": 14,
     "metadata": {},
     "output_type": "execute_result"
    }
   ],
   "source": [
    "test.head(3)"
   ]
  },
  {
   "cell_type": "code",
   "execution_count": 15,
   "metadata": {},
   "outputs": [],
   "source": [
    "def weekday(x): return pd.to_datetime(x[:10]).weekday()"
   ]
  },
  {
   "cell_type": "code",
   "execution_count": 16,
   "metadata": {},
   "outputs": [],
   "source": [
    "#평일 0~4 , 주말 5~6\n",
    "train['weekday'] = train['date_time'].apply(lambda x: weekday(x))\n",
    "test['weekday'] = test['date_time'].apply(lambda x: weekday(x))"
   ]
  },
  {
   "cell_type": "code",
   "execution_count": 17,
   "metadata": {},
   "outputs": [],
   "source": [
    "#평일 0 주말 1\n",
    "train['weekend'] = train['weekday'].apply(lambda x:0 if x < 4 else 1)\n",
    "test['weekend'] = test['weekday'].apply(lambda x:0 if x < 4 else 1)"
   ]
  },
  {
   "cell_type": "code",
   "execution_count": 18,
   "metadata": {},
   "outputs": [
    {
     "data": {
      "text/html": [
       "<div>\n",
       "<style scoped>\n",
       "    .dataframe tbody tr th:only-of-type {\n",
       "        vertical-align: middle;\n",
       "    }\n",
       "\n",
       "    .dataframe tbody tr th {\n",
       "        vertical-align: top;\n",
       "    }\n",
       "\n",
       "    .dataframe thead th {\n",
       "        text-align: right;\n",
       "    }\n",
       "</style>\n",
       "<table border=\"1\" class=\"dataframe\">\n",
       "  <thead>\n",
       "    <tr style=\"text-align: right;\">\n",
       "      <th></th>\n",
       "      <th>num</th>\n",
       "      <th>date_time</th>\n",
       "      <th>전력사용량(kWh)</th>\n",
       "      <th>기온(°C)</th>\n",
       "      <th>풍속(m/s)</th>\n",
       "      <th>습도(%)</th>\n",
       "      <th>강수량(mm)</th>\n",
       "      <th>일조(hr)</th>\n",
       "      <th>비전기냉방설비운영</th>\n",
       "      <th>태양광보유</th>\n",
       "      <th>time</th>\n",
       "      <th>weekday</th>\n",
       "      <th>weekend</th>\n",
       "    </tr>\n",
       "  </thead>\n",
       "  <tbody>\n",
       "    <tr>\n",
       "      <th>0</th>\n",
       "      <td>1</td>\n",
       "      <td>2020-06-01 00</td>\n",
       "      <td>8179.056</td>\n",
       "      <td>17.6</td>\n",
       "      <td>2.5</td>\n",
       "      <td>92.0</td>\n",
       "      <td>0.8</td>\n",
       "      <td>0.0</td>\n",
       "      <td>0.0</td>\n",
       "      <td>0.0</td>\n",
       "      <td>0</td>\n",
       "      <td>0</td>\n",
       "      <td>0</td>\n",
       "    </tr>\n",
       "    <tr>\n",
       "      <th>1</th>\n",
       "      <td>1</td>\n",
       "      <td>2020-06-01 01</td>\n",
       "      <td>8135.640</td>\n",
       "      <td>17.7</td>\n",
       "      <td>2.9</td>\n",
       "      <td>91.0</td>\n",
       "      <td>0.3</td>\n",
       "      <td>0.0</td>\n",
       "      <td>0.0</td>\n",
       "      <td>0.0</td>\n",
       "      <td>1</td>\n",
       "      <td>0</td>\n",
       "      <td>0</td>\n",
       "    </tr>\n",
       "    <tr>\n",
       "      <th>2</th>\n",
       "      <td>1</td>\n",
       "      <td>2020-06-01 02</td>\n",
       "      <td>8107.128</td>\n",
       "      <td>17.5</td>\n",
       "      <td>3.2</td>\n",
       "      <td>91.0</td>\n",
       "      <td>0.0</td>\n",
       "      <td>0.0</td>\n",
       "      <td>0.0</td>\n",
       "      <td>0.0</td>\n",
       "      <td>2</td>\n",
       "      <td>0</td>\n",
       "      <td>0</td>\n",
       "    </tr>\n",
       "  </tbody>\n",
       "</table>\n",
       "</div>"
      ],
      "text/plain": [
       "   num      date_time  전력사용량(kWh)  기온(°C)  풍속(m/s)  습도(%)  강수량(mm)  일조(hr)  \\\n",
       "0    1  2020-06-01 00    8179.056    17.6      2.5   92.0      0.8     0.0   \n",
       "1    1  2020-06-01 01    8135.640    17.7      2.9   91.0      0.3     0.0   \n",
       "2    1  2020-06-01 02    8107.128    17.5      3.2   91.0      0.0     0.0   \n",
       "\n",
       "   비전기냉방설비운영  태양광보유  time  weekday  weekend  \n",
       "0        0.0    0.0     0        0        0  \n",
       "1        0.0    0.0     1        0        0  \n",
       "2        0.0    0.0     2        0        0  "
      ]
     },
     "execution_count": 18,
     "metadata": {},
     "output_type": "execute_result"
    }
   ],
   "source": [
    "train.head(3)"
   ]
  },
  {
   "cell_type": "code",
   "execution_count": 19,
   "metadata": {},
   "outputs": [
    {
     "data": {
      "text/html": [
       "<div>\n",
       "<style scoped>\n",
       "    .dataframe tbody tr th:only-of-type {\n",
       "        vertical-align: middle;\n",
       "    }\n",
       "\n",
       "    .dataframe tbody tr th {\n",
       "        vertical-align: top;\n",
       "    }\n",
       "\n",
       "    .dataframe thead th {\n",
       "        text-align: right;\n",
       "    }\n",
       "</style>\n",
       "<table border=\"1\" class=\"dataframe\">\n",
       "  <thead>\n",
       "    <tr style=\"text-align: right;\">\n",
       "      <th></th>\n",
       "      <th>num</th>\n",
       "      <th>date_time</th>\n",
       "      <th>기온(°C)</th>\n",
       "      <th>풍속(m/s)</th>\n",
       "      <th>습도(%)</th>\n",
       "      <th>강수량(mm, 6시간)</th>\n",
       "      <th>일조(hr, 3시간)</th>\n",
       "      <th>비전기냉방설비운영</th>\n",
       "      <th>태양광보유</th>\n",
       "      <th>time</th>\n",
       "      <th>weekday</th>\n",
       "      <th>weekend</th>\n",
       "    </tr>\n",
       "  </thead>\n",
       "  <tbody>\n",
       "    <tr>\n",
       "      <th>0</th>\n",
       "      <td>1</td>\n",
       "      <td>2020-08-25 00</td>\n",
       "      <td>27.8</td>\n",
       "      <td>1.5</td>\n",
       "      <td>74.0</td>\n",
       "      <td>0.0</td>\n",
       "      <td>0.0</td>\n",
       "      <td>0.0</td>\n",
       "      <td>0.0</td>\n",
       "      <td>0</td>\n",
       "      <td>1</td>\n",
       "      <td>0</td>\n",
       "    </tr>\n",
       "    <tr>\n",
       "      <th>1</th>\n",
       "      <td>1</td>\n",
       "      <td>2020-08-25 01</td>\n",
       "      <td>NaN</td>\n",
       "      <td>NaN</td>\n",
       "      <td>NaN</td>\n",
       "      <td>NaN</td>\n",
       "      <td>NaN</td>\n",
       "      <td>0.0</td>\n",
       "      <td>0.0</td>\n",
       "      <td>1</td>\n",
       "      <td>1</td>\n",
       "      <td>0</td>\n",
       "    </tr>\n",
       "    <tr>\n",
       "      <th>2</th>\n",
       "      <td>1</td>\n",
       "      <td>2020-08-25 02</td>\n",
       "      <td>NaN</td>\n",
       "      <td>NaN</td>\n",
       "      <td>NaN</td>\n",
       "      <td>NaN</td>\n",
       "      <td>NaN</td>\n",
       "      <td>0.0</td>\n",
       "      <td>0.0</td>\n",
       "      <td>2</td>\n",
       "      <td>1</td>\n",
       "      <td>0</td>\n",
       "    </tr>\n",
       "  </tbody>\n",
       "</table>\n",
       "</div>"
      ],
      "text/plain": [
       "   num      date_time  기온(°C)  풍속(m/s)  습도(%)  강수량(mm, 6시간)  일조(hr, 3시간)  \\\n",
       "0    1  2020-08-25 00    27.8      1.5   74.0           0.0          0.0   \n",
       "1    1  2020-08-25 01     NaN      NaN    NaN           NaN          NaN   \n",
       "2    1  2020-08-25 02     NaN      NaN    NaN           NaN          NaN   \n",
       "\n",
       "   비전기냉방설비운영  태양광보유  time  weekday  weekend  \n",
       "0        0.0    0.0     0        1        0  \n",
       "1        0.0    0.0     1        1        0  \n",
       "2        0.0    0.0     2        1        0  "
      ]
     },
     "execution_count": 19,
     "metadata": {},
     "output_type": "execute_result"
    }
   ],
   "source": [
    "test.head(3)"
   ]
  },
  {
   "cell_type": "code",
   "execution_count": 20,
   "metadata": {},
   "outputs": [
    {
     "data": {
      "text/html": [
       "<div>\n",
       "<style scoped>\n",
       "    .dataframe tbody tr th:only-of-type {\n",
       "        vertical-align: middle;\n",
       "    }\n",
       "\n",
       "    .dataframe tbody tr th {\n",
       "        vertical-align: top;\n",
       "    }\n",
       "\n",
       "    .dataframe thead th {\n",
       "        text-align: right;\n",
       "    }\n",
       "</style>\n",
       "<table border=\"1\" class=\"dataframe\">\n",
       "  <thead>\n",
       "    <tr style=\"text-align: right;\">\n",
       "      <th></th>\n",
       "      <th>num</th>\n",
       "      <th>date_time</th>\n",
       "      <th>기온(°C)</th>\n",
       "      <th>풍속(m/s)</th>\n",
       "      <th>습도(%)</th>\n",
       "      <th>강수량(mm, 6시간)</th>\n",
       "      <th>일조(hr, 3시간)</th>\n",
       "      <th>비전기냉방설비운영</th>\n",
       "      <th>태양광보유</th>\n",
       "      <th>time</th>\n",
       "      <th>weekday</th>\n",
       "      <th>weekend</th>\n",
       "    </tr>\n",
       "  </thead>\n",
       "  <tbody>\n",
       "    <tr>\n",
       "      <th>0</th>\n",
       "      <td>1</td>\n",
       "      <td>2020-08-25 00</td>\n",
       "      <td>27.800000</td>\n",
       "      <td>1.500000</td>\n",
       "      <td>74.000000</td>\n",
       "      <td>0.0</td>\n",
       "      <td>0.0</td>\n",
       "      <td>0.0</td>\n",
       "      <td>0.0</td>\n",
       "      <td>0</td>\n",
       "      <td>1</td>\n",
       "      <td>0</td>\n",
       "    </tr>\n",
       "    <tr>\n",
       "      <th>1</th>\n",
       "      <td>1</td>\n",
       "      <td>2020-08-25 01</td>\n",
       "      <td>27.633333</td>\n",
       "      <td>1.366667</td>\n",
       "      <td>75.333333</td>\n",
       "      <td>0.0</td>\n",
       "      <td>0.0</td>\n",
       "      <td>0.0</td>\n",
       "      <td>0.0</td>\n",
       "      <td>1</td>\n",
       "      <td>1</td>\n",
       "      <td>0</td>\n",
       "    </tr>\n",
       "    <tr>\n",
       "      <th>2</th>\n",
       "      <td>1</td>\n",
       "      <td>2020-08-25 02</td>\n",
       "      <td>27.466667</td>\n",
       "      <td>1.233333</td>\n",
       "      <td>76.666667</td>\n",
       "      <td>0.0</td>\n",
       "      <td>0.0</td>\n",
       "      <td>0.0</td>\n",
       "      <td>0.0</td>\n",
       "      <td>2</td>\n",
       "      <td>1</td>\n",
       "      <td>0</td>\n",
       "    </tr>\n",
       "  </tbody>\n",
       "</table>\n",
       "</div>"
      ],
      "text/plain": [
       "   num      date_time     기온(°C)   풍속(m/s)      습도(%)  강수량(mm, 6시간)  \\\n",
       "0    1  2020-08-25 00  27.800000  1.500000  74.000000           0.0   \n",
       "1    1  2020-08-25 01  27.633333  1.366667  75.333333           0.0   \n",
       "2    1  2020-08-25 02  27.466667  1.233333  76.666667           0.0   \n",
       "\n",
       "   일조(hr, 3시간)  비전기냉방설비운영  태양광보유  time  weekday  weekend  \n",
       "0          0.0        0.0    0.0     0        1        0  \n",
       "1          0.0        0.0    0.0     1        1        0  \n",
       "2          0.0        0.0    0.0     2        1        0  "
      ]
     },
     "execution_count": 20,
     "metadata": {},
     "output_type": "execute_result"
    }
   ],
   "source": [
    "#기온 풍속 습도 등 기타 결측치도 즉당히 1/3 2/3 수치로 보간해줍시다\n",
    "test = test.interpolate(method='values')\n",
    "test.head(3)"
   ]
  },
  {
   "cell_type": "markdown",
   "metadata": {},
   "source": [
    "# 2.모델링"
   ]
  },
  {
   "cell_type": "code",
   "execution_count": 21,
   "metadata": {},
   "outputs": [],
   "source": [
    "#학습용 set 생성\n",
    "train.drop('date_time', axis=1, inplace=True) #학습에 불필요한 날짜 제거\n",
    "train_x = train.drop('전력사용량(kWh)', axis=1) #문제\n",
    "train_y = train[['전력사용량(kWh)']] #정답지"
   ]
  },
  {
   "cell_type": "markdown",
   "metadata": {},
   "source": [
    "날짜가 불필요한 데이터???"
   ]
  },
  {
   "cell_type": "code",
   "execution_count": 22,
   "metadata": {},
   "outputs": [
    {
     "data": {
      "text/html": [
       "<div>\n",
       "<style scoped>\n",
       "    .dataframe tbody tr th:only-of-type {\n",
       "        vertical-align: middle;\n",
       "    }\n",
       "\n",
       "    .dataframe tbody tr th {\n",
       "        vertical-align: top;\n",
       "    }\n",
       "\n",
       "    .dataframe thead th {\n",
       "        text-align: right;\n",
       "    }\n",
       "</style>\n",
       "<table border=\"1\" class=\"dataframe\">\n",
       "  <thead>\n",
       "    <tr style=\"text-align: right;\">\n",
       "      <th></th>\n",
       "      <th>num</th>\n",
       "      <th>기온(°C)</th>\n",
       "      <th>풍속(m/s)</th>\n",
       "      <th>습도(%)</th>\n",
       "      <th>강수량(mm)</th>\n",
       "      <th>일조(hr)</th>\n",
       "      <th>비전기냉방설비운영</th>\n",
       "      <th>태양광보유</th>\n",
       "      <th>time</th>\n",
       "      <th>weekday</th>\n",
       "      <th>weekend</th>\n",
       "    </tr>\n",
       "  </thead>\n",
       "  <tbody>\n",
       "    <tr>\n",
       "      <th>0</th>\n",
       "      <td>1</td>\n",
       "      <td>17.6</td>\n",
       "      <td>2.5</td>\n",
       "      <td>92.0</td>\n",
       "      <td>0.8</td>\n",
       "      <td>0.0</td>\n",
       "      <td>0.0</td>\n",
       "      <td>0.0</td>\n",
       "      <td>0</td>\n",
       "      <td>0</td>\n",
       "      <td>0</td>\n",
       "    </tr>\n",
       "    <tr>\n",
       "      <th>1</th>\n",
       "      <td>1</td>\n",
       "      <td>17.7</td>\n",
       "      <td>2.9</td>\n",
       "      <td>91.0</td>\n",
       "      <td>0.3</td>\n",
       "      <td>0.0</td>\n",
       "      <td>0.0</td>\n",
       "      <td>0.0</td>\n",
       "      <td>1</td>\n",
       "      <td>0</td>\n",
       "      <td>0</td>\n",
       "    </tr>\n",
       "    <tr>\n",
       "      <th>2</th>\n",
       "      <td>1</td>\n",
       "      <td>17.5</td>\n",
       "      <td>3.2</td>\n",
       "      <td>91.0</td>\n",
       "      <td>0.0</td>\n",
       "      <td>0.0</td>\n",
       "      <td>0.0</td>\n",
       "      <td>0.0</td>\n",
       "      <td>2</td>\n",
       "      <td>0</td>\n",
       "      <td>0</td>\n",
       "    </tr>\n",
       "  </tbody>\n",
       "</table>\n",
       "</div>"
      ],
      "text/plain": [
       "   num  기온(°C)  풍속(m/s)  습도(%)  강수량(mm)  일조(hr)  비전기냉방설비운영  태양광보유  time  \\\n",
       "0    1    17.6      2.5   92.0      0.8     0.0        0.0    0.0     0   \n",
       "1    1    17.7      2.9   91.0      0.3     0.0        0.0    0.0     1   \n",
       "2    1    17.5      3.2   91.0      0.0     0.0        0.0    0.0     2   \n",
       "\n",
       "   weekday  weekend  \n",
       "0        0        0  \n",
       "1        0        0  \n",
       "2        0        0  "
      ]
     },
     "execution_count": 22,
     "metadata": {},
     "output_type": "execute_result"
    }
   ],
   "source": [
    "train_x.head(3)"
   ]
  },
  {
   "cell_type": "code",
   "execution_count": 23,
   "metadata": {},
   "outputs": [
    {
     "data": {
      "text/html": [
       "<div>\n",
       "<style scoped>\n",
       "    .dataframe tbody tr th:only-of-type {\n",
       "        vertical-align: middle;\n",
       "    }\n",
       "\n",
       "    .dataframe tbody tr th {\n",
       "        vertical-align: top;\n",
       "    }\n",
       "\n",
       "    .dataframe thead th {\n",
       "        text-align: right;\n",
       "    }\n",
       "</style>\n",
       "<table border=\"1\" class=\"dataframe\">\n",
       "  <thead>\n",
       "    <tr style=\"text-align: right;\">\n",
       "      <th></th>\n",
       "      <th>전력사용량(kWh)</th>\n",
       "    </tr>\n",
       "  </thead>\n",
       "  <tbody>\n",
       "    <tr>\n",
       "      <th>0</th>\n",
       "      <td>8179.056</td>\n",
       "    </tr>\n",
       "    <tr>\n",
       "      <th>1</th>\n",
       "      <td>8135.640</td>\n",
       "    </tr>\n",
       "    <tr>\n",
       "      <th>2</th>\n",
       "      <td>8107.128</td>\n",
       "    </tr>\n",
       "  </tbody>\n",
       "</table>\n",
       "</div>"
      ],
      "text/plain": [
       "   전력사용량(kWh)\n",
       "0    8179.056\n",
       "1    8135.640\n",
       "2    8107.128"
      ]
     },
     "execution_count": 23,
     "metadata": {},
     "output_type": "execute_result"
    }
   ],
   "source": [
    "train_y.head(3)"
   ]
  },
  {
   "cell_type": "code",
   "execution_count": 24,
   "metadata": {},
   "outputs": [],
   "source": [
    "X_train, X_val, y_train, y_val = train_test_split(train_x, train_y, test_size=0.2, random_state=156)"
   ]
  },
  {
   "cell_type": "markdown",
   "metadata": {},
   "source": [
    "## 추후에 하이퍼 파라미터 변경해보자"
   ]
  },
  {
   "cell_type": "markdown",
   "metadata": {},
   "source": [
    "train_test_split 이거 모르겠다...   \n",
    "4개 변수가 각자 어떤 목적으로 사용되는지를 모르겠음  "
   ]
  },
  {
   "cell_type": "code",
   "execution_count": 25,
   "metadata": {},
   "outputs": [
    {
     "data": {
      "text/html": [
       "<div>\n",
       "<style scoped>\n",
       "    .dataframe tbody tr th:only-of-type {\n",
       "        vertical-align: middle;\n",
       "    }\n",
       "\n",
       "    .dataframe tbody tr th {\n",
       "        vertical-align: top;\n",
       "    }\n",
       "\n",
       "    .dataframe thead th {\n",
       "        text-align: right;\n",
       "    }\n",
       "</style>\n",
       "<table border=\"1\" class=\"dataframe\">\n",
       "  <thead>\n",
       "    <tr style=\"text-align: right;\">\n",
       "      <th></th>\n",
       "      <th>num</th>\n",
       "      <th>기온(°C)</th>\n",
       "      <th>풍속(m/s)</th>\n",
       "      <th>습도(%)</th>\n",
       "      <th>강수량(mm)</th>\n",
       "      <th>일조(hr)</th>\n",
       "      <th>비전기냉방설비운영</th>\n",
       "      <th>태양광보유</th>\n",
       "      <th>time</th>\n",
       "      <th>weekday</th>\n",
       "      <th>weekend</th>\n",
       "    </tr>\n",
       "  </thead>\n",
       "  <tbody>\n",
       "    <tr>\n",
       "      <th>91868</th>\n",
       "      <td>46</td>\n",
       "      <td>21.0</td>\n",
       "      <td>5.2</td>\n",
       "      <td>80.0</td>\n",
       "      <td>0.0</td>\n",
       "      <td>0.0</td>\n",
       "      <td>1.0</td>\n",
       "      <td>0.0</td>\n",
       "      <td>20</td>\n",
       "      <td>2</td>\n",
       "      <td>0</td>\n",
       "    </tr>\n",
       "  </tbody>\n",
       "</table>\n",
       "</div>"
      ],
      "text/plain": [
       "       num  기온(°C)  풍속(m/s)  습도(%)  강수량(mm)  일조(hr)  비전기냉방설비운영  태양광보유  time  \\\n",
       "91868   46    21.0      5.2   80.0      0.0     0.0        1.0    0.0    20   \n",
       "\n",
       "       weekday  weekend  \n",
       "91868        2        0  "
      ]
     },
     "execution_count": 25,
     "metadata": {},
     "output_type": "execute_result"
    }
   ],
   "source": [
    "X_train.head(1)"
   ]
  },
  {
   "cell_type": "code",
   "execution_count": 26,
   "metadata": {},
   "outputs": [
    {
     "data": {
      "text/html": [
       "<div>\n",
       "<style scoped>\n",
       "    .dataframe tbody tr th:only-of-type {\n",
       "        vertical-align: middle;\n",
       "    }\n",
       "\n",
       "    .dataframe tbody tr th {\n",
       "        vertical-align: top;\n",
       "    }\n",
       "\n",
       "    .dataframe thead th {\n",
       "        text-align: right;\n",
       "    }\n",
       "</style>\n",
       "<table border=\"1\" class=\"dataframe\">\n",
       "  <thead>\n",
       "    <tr style=\"text-align: right;\">\n",
       "      <th></th>\n",
       "      <th>전력사용량(kWh)</th>\n",
       "    </tr>\n",
       "  </thead>\n",
       "  <tbody>\n",
       "    <tr>\n",
       "      <th>91868</th>\n",
       "      <td>1609.632</td>\n",
       "    </tr>\n",
       "  </tbody>\n",
       "</table>\n",
       "</div>"
      ],
      "text/plain": [
       "       전력사용량(kWh)\n",
       "91868    1609.632"
      ]
     },
     "execution_count": 26,
     "metadata": {},
     "output_type": "execute_result"
    }
   ],
   "source": [
    "y_train.head(1)"
   ]
  },
  {
   "cell_type": "code",
   "execution_count": 27,
   "metadata": {},
   "outputs": [],
   "source": [
    "# loss function : SMAPE정의\n",
    "#from sklearn.metrics import mean_absolute_error\n",
    "def smape(true, pred):\n",
    "    true = np.array(true)\n",
    "    pred = np.array(pred)\n",
    "    return np.mean((np.abs(true-pred)) / (np.abs(true) + np.abs(pred))) \n",
    "# *2, *100 은 상수이므로 생략"
   ]
  },
  {
   "cell_type": "code",
   "execution_count": 28,
   "metadata": {},
   "outputs": [],
   "source": [
    "SMAPE = make_scorer(smape, greater_is_better=False) #smape값이 작아져야하므로 False"
   ]
  },
  {
   "cell_type": "code",
   "execution_count": 29,
   "metadata": {},
   "outputs": [],
   "source": [
    "def get_best_params(model, params):\n",
    "    grid_model = GridSearchCV(\n",
    "    model,\n",
    "    param_grid = params,\n",
    "    cv=5,\n",
    "    scoring=SMAPE)\n",
    "    \n",
    "    grid_model.fit(X_train, y_train, eval_set=[(X_train, y_train), (X_val, y_val)], verbose=100)\n",
    "    scr = grid_model.best_score_\n",
    "    print(f'{model.__class__.__name__} 최적 score 값{scr}')\n",
    "    return grid_model.best_estimator_ "
   ]
  },
  {
   "cell_type": "code",
   "execution_count": 38,
   "metadata": {},
   "outputs": [],
   "source": [
    "#파라미터 후보군 설정\n",
    "# 어떤 파라미터로 하는게 좋을지 고민된다면 고민하는 것들을 리스트 안에 다 넣어보세요 알아서 골라줄겁니다.\n",
    "# 저는 예시로 learning_rate만 0.1 or 0.01 중 더 좋은걸 골라달라고 했습니다.\n",
    "\n",
    "params = {}\n",
    "params['boosting_type'] = ['gbdt'] #gbdt?? \n",
    "params['objective'] = ['regression']\n",
    "params['n_estimators'] = [1]\n",
    "params['learning_rate'] = [0.001]\n",
    "params['subsample'] = [1]"
   ]
  },
  {
   "cell_type": "markdown",
   "metadata": {},
   "source": [
    "params['n_estimators'] = [50, 100, 150, 200, 250,300,350,400,450,500]  \n",
    "params['learning_rate'] = [0.1,0.01,0.03,0.001,0.003]   \n",
    "  \n",
    "=> 이렇게 돌렸더니   \n",
    "\n",
    "LGBMRegressor 최적 score 값-0.29181390036584975  \n",
    "LGBMRegressor(learning_rate=0.001, n_estimators=50, objective='regression',subsample=1)  \n",
    "  \n",
    "이렇게 나온다  "
   ]
  },
  {
   "cell_type": "markdown",
   "metadata": {},
   "source": [
    "이곳 hyper param 추후 변경 예정"
   ]
  },
  {
   "cell_type": "code",
   "execution_count": 39,
   "metadata": {},
   "outputs": [],
   "source": [
    "#모델 정의\n",
    "model = LGBMRegressor(params)"
   ]
  },
  {
   "cell_type": "code",
   "execution_count": 40,
   "metadata": {},
   "outputs": [
    {
     "name": "stdout",
     "output_type": "stream",
     "text": [
      "LGBMRegressor 최적 score 값-0.2915382416967771\n"
     ]
    },
    {
     "data": {
      "text/plain": [
       "LGBMRegressor(learning_rate=0.001, n_estimators=1, objective='regression',\n",
       "              subsample=1)"
      ]
     },
     "execution_count": 40,
     "metadata": {},
     "output_type": "execute_result"
    }
   ],
   "source": [
    "#학습 진행\n",
    "best_lgbm = get_best_params(model, params)\n",
    "best_lgbm"
   ]
  },
  {
   "cell_type": "code",
   "execution_count": 41,
   "metadata": {},
   "outputs": [
    {
     "name": "stdout",
     "output_type": "stream",
     "text": [
      "MSE: 4184009.556690822\n",
      "R2 : 0.001697887018490274\n"
     ]
    }
   ],
   "source": [
    "from sklearn.metrics import mean_squared_error, r2_score\n",
    "y_pred = best_lgbm.predict(X_train)\n",
    "\n",
    "mse_score = mean_squared_error(y_train, y_pred)\n",
    "r2_score = r2_score(y_train, y_pred)\n",
    "print('MSE:', mse_score)\n",
    "print('R2 :',r2_score)"
   ]
  },
  {
   "cell_type": "code",
   "execution_count": 42,
   "metadata": {},
   "outputs": [],
   "source": [
    "#from sklearn.externals import joblib\n",
    "import joblib #얘는 어떤 lib일까?\n",
    "joblib.dump(best_lgbm, 'best_lgbm.pkl')\n",
    "load_lgbm = joblib.load('best_lgbm.pkl')"
   ]
  },
  {
   "cell_type": "markdown",
   "metadata": {},
   "source": [
    "# 3. 제출용 데이터 "
   ]
  },
  {
   "cell_type": "code",
   "execution_count": 43,
   "metadata": {},
   "outputs": [],
   "source": [
    "#모델에 넣기 위해 날짜 칼럼 제거\n",
    "test_x = test.drop('date_time', axis=1)"
   ]
  },
  {
   "cell_type": "code",
   "execution_count": 44,
   "metadata": {},
   "outputs": [
    {
     "name": "stdout",
     "output_type": "stream",
     "text": [
      "       num     기온(°C)   풍속(m/s)      습도(%)  강수량(mm, 6시간)  일조(hr, 3시간)  \\\n",
      "0        1  27.800000  1.500000  74.000000           0.0     0.000000   \n",
      "1        1  27.633333  1.366667  75.333333           0.0     0.000000   \n",
      "2        1  27.466667  1.233333  76.666667           0.0     0.000000   \n",
      "3        1  27.300000  1.100000  78.000000           0.0     0.000000   \n",
      "4        1  26.900000  1.166667  79.666667           0.0     0.000000   \n",
      "...    ...        ...       ...        ...           ...          ...   \n",
      "10075   60  28.633333  3.566667  66.000000           0.0     0.533333   \n",
      "10076   60  28.266667  3.833333  67.000000           0.0     0.266667   \n",
      "10077   60  27.900000  4.100000  68.000000           0.0     0.000000   \n",
      "10078   60  27.900000  4.100000  68.000000           0.0     0.000000   \n",
      "10079   60  27.900000  4.100000  68.000000           0.0     0.000000   \n",
      "\n",
      "       비전기냉방설비운영  태양광보유  time  weekday  weekend  \n",
      "0            0.0    0.0     0        1        0  \n",
      "1            0.0    0.0     1        1        0  \n",
      "2            0.0    0.0     2        1        0  \n",
      "3            0.0    0.0     3        1        0  \n",
      "4            0.0    0.0     4        1        0  \n",
      "...          ...    ...   ...      ...      ...  \n",
      "10075        1.0    1.0    19        0        0  \n",
      "10076        1.0    1.0    20        0        0  \n",
      "10077        1.0    1.0    21        0        0  \n",
      "10078        1.0    1.0    22        0        0  \n",
      "10079        1.0    1.0    23        0        0  \n",
      "\n",
      "[10080 rows x 11 columns]\n"
     ]
    }
   ],
   "source": [
    "print(test_x)"
   ]
  },
  {
   "cell_type": "code",
   "execution_count": 45,
   "metadata": {},
   "outputs": [],
   "source": [
    "#모델 예측\n",
    "submission_y = best_lgbm.predict(test_x)"
   ]
  },
  {
   "cell_type": "code",
   "execution_count": 46,
   "metadata": {
    "scrolled": true
   },
   "outputs": [
    {
     "data": {
      "text/html": [
       "<div>\n",
       "<style scoped>\n",
       "    .dataframe tbody tr th:only-of-type {\n",
       "        vertical-align: middle;\n",
       "    }\n",
       "\n",
       "    .dataframe tbody tr th {\n",
       "        vertical-align: top;\n",
       "    }\n",
       "\n",
       "    .dataframe thead th {\n",
       "        text-align: right;\n",
       "    }\n",
       "</style>\n",
       "<table border=\"1\" class=\"dataframe\">\n",
       "  <thead>\n",
       "    <tr style=\"text-align: right;\">\n",
       "      <th></th>\n",
       "      <th>num_date_time</th>\n",
       "      <th>answer</th>\n",
       "    </tr>\n",
       "  </thead>\n",
       "  <tbody>\n",
       "    <tr>\n",
       "      <th>0</th>\n",
       "      <td>1 2020-08-25 00</td>\n",
       "      <td>2321.005514</td>\n",
       "    </tr>\n",
       "    <tr>\n",
       "      <th>1</th>\n",
       "      <td>1 2020-08-25 01</td>\n",
       "      <td>2321.005514</td>\n",
       "    </tr>\n",
       "    <tr>\n",
       "      <th>2</th>\n",
       "      <td>1 2020-08-25 02</td>\n",
       "      <td>2321.005514</td>\n",
       "    </tr>\n",
       "    <tr>\n",
       "      <th>3</th>\n",
       "      <td>1 2020-08-25 03</td>\n",
       "      <td>2321.005514</td>\n",
       "    </tr>\n",
       "    <tr>\n",
       "      <th>4</th>\n",
       "      <td>1 2020-08-25 04</td>\n",
       "      <td>2321.005514</td>\n",
       "    </tr>\n",
       "    <tr>\n",
       "      <th>...</th>\n",
       "      <td>...</td>\n",
       "      <td>...</td>\n",
       "    </tr>\n",
       "    <tr>\n",
       "      <th>10075</th>\n",
       "      <td>60 2020-08-31 19</td>\n",
       "      <td>2315.666557</td>\n",
       "    </tr>\n",
       "    <tr>\n",
       "      <th>10076</th>\n",
       "      <td>60 2020-08-31 20</td>\n",
       "      <td>2314.630035</td>\n",
       "    </tr>\n",
       "    <tr>\n",
       "      <th>10077</th>\n",
       "      <td>60 2020-08-31 21</td>\n",
       "      <td>2314.630035</td>\n",
       "    </tr>\n",
       "    <tr>\n",
       "      <th>10078</th>\n",
       "      <td>60 2020-08-31 22</td>\n",
       "      <td>2314.630035</td>\n",
       "    </tr>\n",
       "    <tr>\n",
       "      <th>10079</th>\n",
       "      <td>60 2020-08-31 23</td>\n",
       "      <td>2314.630035</td>\n",
       "    </tr>\n",
       "  </tbody>\n",
       "</table>\n",
       "<p>10080 rows × 2 columns</p>\n",
       "</div>"
      ],
      "text/plain": [
       "          num_date_time       answer\n",
       "0       1 2020-08-25 00  2321.005514\n",
       "1       1 2020-08-25 01  2321.005514\n",
       "2       1 2020-08-25 02  2321.005514\n",
       "3       1 2020-08-25 03  2321.005514\n",
       "4       1 2020-08-25 04  2321.005514\n",
       "...                 ...          ...\n",
       "10075  60 2020-08-31 19  2315.666557\n",
       "10076  60 2020-08-31 20  2314.630035\n",
       "10077  60 2020-08-31 21  2314.630035\n",
       "10078  60 2020-08-31 22  2314.630035\n",
       "10079  60 2020-08-31 23  2314.630035\n",
       "\n",
       "[10080 rows x 2 columns]"
      ]
     },
     "execution_count": 46,
     "metadata": {},
     "output_type": "execute_result"
    }
   ],
   "source": [
    "#submission.csv 생성\n",
    "test['answer'] = submission_y\n",
    "test['num_date_time'] = test.apply(lambda x: str(x['num']) + ' ' + x['date_time'], axis=1)\n",
    "submission = test[['num_date_time', 'answer']]\n",
    "submission.to_csv('advanced_lgbm_submission.csv',index=False, encoding='euc-kr')\n",
    "submission"
   ]
  },
  {
   "cell_type": "code",
   "execution_count": null,
   "metadata": {},
   "outputs": [],
   "source": []
  }
 ],
 "metadata": {
  "kernelspec": {
   "display_name": "Python 3",
   "language": "python",
   "name": "python3"
  },
  "language_info": {
   "codemirror_mode": {
    "name": "ipython",
    "version": 3
   },
   "file_extension": ".py",
   "mimetype": "text/x-python",
   "name": "python",
   "nbconvert_exporter": "python",
   "pygments_lexer": "ipython3",
   "version": "3.8.5"
  }
 },
 "nbformat": 4,
 "nbformat_minor": 4
}
